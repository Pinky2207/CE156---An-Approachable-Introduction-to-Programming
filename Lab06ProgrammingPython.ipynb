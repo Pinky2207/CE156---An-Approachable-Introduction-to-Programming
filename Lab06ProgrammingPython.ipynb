{
  "nbformat": 4,
  "nbformat_minor": 0,
  "metadata": {
    "colab": {
      "provenance": [],
      "authorship_tag": "ABX9TyPA3xVNnLHw2N7VID7hhAmb",
      "include_colab_link": true
    },
    "kernelspec": {
      "name": "python3",
      "display_name": "Python 3"
    },
    "language_info": {
      "name": "python"
    }
  },
  "cells": [
    {
      "cell_type": "markdown",
      "metadata": {
        "id": "view-in-github",
        "colab_type": "text"
      },
      "source": [
        "<a href=\"https://colab.research.google.com/github/Pinky2207/CE156---An-Approachable-Introduction-to-Programming/blob/main/Lab06ProgrammingPython.ipynb\" target=\"_parent\"><img src=\"https://colab.research.google.com/assets/colab-badge.svg\" alt=\"Open In Colab\"/></a>"
      ]
    },
    {
      "cell_type": "code",
      "execution_count": 1,
      "metadata": {
        "id": "GKvxdJ4yNqzy"
      },
      "outputs": [],
      "source": [
        "s = {1, 5, 2, 7}\n"
      ]
    },
    {
      "cell_type": "code",
      "source": [
        "s.add(12)\n",
        "s.remove(5)"
      ],
      "metadata": {
        "id": "rqrb2ge7NxQZ"
      },
      "execution_count": 2,
      "outputs": []
    },
    {
      "cell_type": "code",
      "source": [
        "print(s)"
      ],
      "metadata": {
        "colab": {
          "base_uri": "https://localhost:8080/"
        },
        "id": "I_u6zkPVNzL4",
        "outputId": "c555eacf-d02c-4f1b-d05a-147494d341e4"
      },
      "execution_count": 3,
      "outputs": [
        {
          "output_type": "stream",
          "name": "stdout",
          "text": [
            "{1, 2, 7, 12}\n"
          ]
        }
      ]
    },
    {
      "cell_type": "code",
      "source": [
        "s.discard(13)\n",
        "print(s)\n"
      ],
      "metadata": {
        "colab": {
          "base_uri": "https://localhost:8080/"
        },
        "id": "vYe_1FI4N0ZY",
        "outputId": "976cd977-8804-48c5-81ce-3a8165687cdd"
      },
      "execution_count": 4,
      "outputs": [
        {
          "output_type": "stream",
          "name": "stdout",
          "text": [
            "{1, 2, 7, 12}\n"
          ]
        }
      ]
    },
    {
      "cell_type": "code",
      "source": [
        "s.discard(12)\n",
        "print(s)"
      ],
      "metadata": {
        "colab": {
          "base_uri": "https://localhost:8080/"
        },
        "id": "7P0bsFd3N16n",
        "outputId": "86a04891-2682-418e-e835-03fc89ed0bed"
      },
      "execution_count": 5,
      "outputs": [
        {
          "output_type": "stream",
          "name": "stdout",
          "text": [
            "{1, 2, 7}\n"
          ]
        }
      ]
    },
    {
      "cell_type": "code",
      "source": [
        "a = {1,2,3,4,5}\n",
        "l1 = []\n",
        "for i in a:\n",
        "    if i%2==0:\n",
        "        l1.append(i)\n",
        "print(l1)  "
      ],
      "metadata": {
        "colab": {
          "base_uri": "https://localhost:8080/"
        },
        "id": "aWKAQh1AN3UQ",
        "outputId": "998c0fe0-821d-4a32-9e1b-21501538b2ad"
      },
      "execution_count": 6,
      "outputs": [
        {
          "output_type": "stream",
          "name": "stdout",
          "text": [
            "[2, 4]\n"
          ]
        }
      ]
    },
    {
      "cell_type": "code",
      "source": [
        "gender = {'pinky' : 'Female', 'hrishi':'Male', 'puja':'Female'}\n",
        "print(gender)"
      ],
      "metadata": {
        "colab": {
          "base_uri": "https://localhost:8080/"
        },
        "id": "rIMNYs8BN4oI",
        "outputId": "e799fd23-a05f-480c-af8a-00dba64acc96"
      },
      "execution_count": 7,
      "outputs": [
        {
          "output_type": "stream",
          "name": "stdout",
          "text": [
            "{'pinky': 'Female', 'hrishi': 'Male', 'puja': 'Female'}\n"
          ]
        }
      ]
    },
    {
      "cell_type": "code",
      "source": [
        "ages = {'bart':(15,12), 'lisa':13,'homer':50 }\n",
        "print(ages)"
      ],
      "metadata": {
        "colab": {
          "base_uri": "https://localhost:8080/"
        },
        "id": "dt4g-m8WN8J4",
        "outputId": "13d61daf-0052-4deb-c584-d30915933a89"
      },
      "execution_count": 8,
      "outputs": [
        {
          "output_type": "stream",
          "name": "stdout",
          "text": [
            "{'bart': (15, 12), 'lisa': 13, 'homer': 50}\n"
          ]
        }
      ]
    },
    {
      "cell_type": "code",
      "source": [
        "names = {}\n",
        "names [1] = 'Shiro'\n",
        "names [2] = 'Ramnath mehta'\n",
        "print(names)"
      ],
      "metadata": {
        "colab": {
          "base_uri": "https://localhost:8080/"
        },
        "id": "9wlHP9mEN9wY",
        "outputId": "50aa8589-7f2f-4660-90be-a94babc78c94"
      },
      "execution_count": 9,
      "outputs": [
        {
          "output_type": "stream",
          "name": "stdout",
          "text": [
            "{1: 'Shiro', 2: 'Ramnath mehta'}\n"
          ]
        }
      ]
    },
    {
      "cell_type": "code",
      "source": [
        "my_dict = { 'bill':7,\n",
        "'rich':15 }\n",
        "print(my_dict['bill'])\n",
        "my_dict['bill'] = 80\n",
        "print(my_dict['bill'])"
      ],
      "metadata": {
        "colab": {
          "base_uri": "https://localhost:8080/"
        },
        "id": "EXY5AwoWN_Cp",
        "outputId": "238166a8-5bc5-4a47-811a-146c4d571cb7"
      },
      "execution_count": 10,
      "outputs": [
        {
          "output_type": "stream",
          "name": "stdout",
          "text": [
            "7\n",
            "80\n"
          ]
        }
      ]
    },
    {
      "cell_type": "code",
      "source": [
        "def count_letters(sequence):\n",
        "    aCounter = {}\n",
        "    \n",
        "    for letter in sequence:\n",
        "        if letter not in aCounter:\n",
        "            aCounter[letter] = 1\n",
        "        else:\n",
        "            aCounter[letter] += 1\n",
        "    \n",
        "    return aCounter\n",
        "    \n",
        "sequence =['d','e','d','e']"
      ],
      "metadata": {
        "id": "CiYpSGv5OA4h"
      },
      "execution_count": 11,
      "outputs": []
    },
    {
      "cell_type": "code",
      "source": [
        "count_letters(sequence)"
      ],
      "metadata": {
        "colab": {
          "base_uri": "https://localhost:8080/"
        },
        "id": "7pv6_E0fOH3A",
        "outputId": "4de8e504-bf80-40c7-edc0-2fe32c0d1ea5"
      },
      "execution_count": 12,
      "outputs": [
        {
          "output_type": "execute_result",
          "data": {
            "text/plain": [
              "{'d': 2, 'e': 2}"
            ]
          },
          "metadata": {},
          "execution_count": 12
        }
      ]
    },
    {
      "cell_type": "markdown",
      "source": [
        "Write a method which takes as an argument a sequence of characters (which may be a list, a tuple or a string) and returns a dictionary in which the keys are the letters in the sequence and the values are the occurrence count for each letter. Any nonletter should be ignored"
      ],
      "metadata": {
        "id": "7arVjVYnOM4y"
      }
    },
    {
      "cell_type": "code",
      "source": [
        "def icount_letters(sequence):\n",
        "    aCounter = {}\n",
        "    \n",
        "    for key, value in sequence.items():\n",
        "        if value not in aCounter:\n",
        "            aCounter[value] = [key]\n",
        "        else:\n",
        "            aCounter[value].append(key)\n",
        "    \n",
        "    return aCounter"
      ],
      "metadata": {
        "id": "qlPNPv9NOK2J"
      },
      "execution_count": 13,
      "outputs": []
    },
    {
      "cell_type": "code",
      "source": [
        "sequence = { 'a':1, 'b' :2, 'c':3, 'd':4, 'e':1, 'f': 1}\n"
      ],
      "metadata": {
        "id": "-TtUWYPEOZeK"
      },
      "execution_count": 14,
      "outputs": []
    },
    {
      "cell_type": "code",
      "source": [
        "icount_letters(sequence)"
      ],
      "metadata": {
        "colab": {
          "base_uri": "https://localhost:8080/"
        },
        "id": "dWI8lRsoObE6",
        "outputId": "24ca58e7-1d68-4418-e3d5-e8255602ade6"
      },
      "execution_count": 15,
      "outputs": [
        {
          "output_type": "execute_result",
          "data": {
            "text/plain": [
              "{1: ['a', 'e', 'f'], 2: ['b'], 3: ['c'], 4: ['d']}"
            ]
          },
          "metadata": {},
          "execution_count": 15
        }
      ]
    },
    {
      "cell_type": "code",
      "source": [],
      "metadata": {
        "id": "oPfJj6n8Ocaa"
      },
      "execution_count": null,
      "outputs": []
    }
  ]
}