{
  "nbformat": 4,
  "nbformat_minor": 0,
  "metadata": {
    "colab": {
      "provenance": [],
      "authorship_tag": "ABX9TyNR58E1n+axVufeGLNSY/9M",
      "include_colab_link": true
    },
    "kernelspec": {
      "name": "python3",
      "display_name": "Python 3"
    },
    "language_info": {
      "name": "python"
    }
  },
  "cells": [
    {
      "cell_type": "markdown",
      "metadata": {
        "id": "view-in-github",
        "colab_type": "text"
      },
      "source": [
        "<a href=\"https://colab.research.google.com/github/Pinky2207/CE156---An-Approachable-Introduction-to-Programming/blob/main/Lab06ProgrammingPython.ipynb\" target=\"_parent\"><img src=\"https://colab.research.google.com/assets/colab-badge.svg\" alt=\"Open In Colab\"/></a>"
      ]
    },
    {
      "cell_type": "code",
      "execution_count": null,
      "metadata": {
        "id": "GKvxdJ4yNqzy"
      },
      "outputs": [],
      "source": [
        "s = {1, 5, 2, 7}\n"
      ]
    },
    {
      "cell_type": "code",
      "source": [
        "s.add(12)\n",
        "s.remove(5)"
      ],
      "metadata": {
        "id": "rqrb2ge7NxQZ"
      },
      "execution_count": null,
      "outputs": []
    },
    {
      "cell_type": "code",
      "source": [
        "print(s)"
      ],
      "metadata": {
        "colab": {
          "base_uri": "https://localhost:8080/"
        },
        "id": "I_u6zkPVNzL4",
        "outputId": "c555eacf-d02c-4f1b-d05a-147494d341e4"
      },
      "execution_count": null,
      "outputs": [
        {
          "output_type": "stream",
          "name": "stdout",
          "text": [
            "{1, 2, 7, 12}\n"
          ]
        }
      ]
    },
    {
      "cell_type": "code",
      "source": [
        "s.discard(13)\n",
        "print(s)\n"
      ],
      "metadata": {
        "colab": {
          "base_uri": "https://localhost:8080/"
        },
        "id": "vYe_1FI4N0ZY",
        "outputId": "976cd977-8804-48c5-81ce-3a8165687cdd"
      },
      "execution_count": null,
      "outputs": [
        {
          "output_type": "stream",
          "name": "stdout",
          "text": [
            "{1, 2, 7, 12}\n"
          ]
        }
      ]
    },
    {
      "cell_type": "code",
      "source": [
        "s.discard(12)\n",
        "print(s)"
      ],
      "metadata": {
        "colab": {
          "base_uri": "https://localhost:8080/"
        },
        "id": "7P0bsFd3N16n",
        "outputId": "86a04891-2682-418e-e835-03fc89ed0bed"
      },
      "execution_count": null,
      "outputs": [
        {
          "output_type": "stream",
          "name": "stdout",
          "text": [
            "{1, 2, 7}\n"
          ]
        }
      ]
    },
    {
      "cell_type": "code",
      "source": [
        "a = {1,2,3,4,5}\n",
        "l1 = []\n",
        "for i in a:\n",
        "    if i%2==0:\n",
        "        l1.append(i)\n",
        "print(l1)  "
      ],
      "metadata": {
        "colab": {
          "base_uri": "https://localhost:8080/"
        },
        "id": "aWKAQh1AN3UQ",
        "outputId": "998c0fe0-821d-4a32-9e1b-21501538b2ad"
      },
      "execution_count": null,
      "outputs": [
        {
          "output_type": "stream",
          "name": "stdout",
          "text": [
            "[2, 4]\n"
          ]
        }
      ]
    },
    {
      "cell_type": "code",
      "source": [
        "gender = {'pinky' : 'Female', 'hrishi':'Male', 'puja':'Female'}\n",
        "print(gender)"
      ],
      "metadata": {
        "colab": {
          "base_uri": "https://localhost:8080/"
        },
        "id": "rIMNYs8BN4oI",
        "outputId": "e799fd23-a05f-480c-af8a-00dba64acc96"
      },
      "execution_count": null,
      "outputs": [
        {
          "output_type": "stream",
          "name": "stdout",
          "text": [
            "{'pinky': 'Female', 'hrishi': 'Male', 'puja': 'Female'}\n"
          ]
        }
      ]
    },
    {
      "cell_type": "code",
      "source": [
        "ages = {'bart':(15,12), 'lisa':13,'homer':50 }\n",
        "print(ages)"
      ],
      "metadata": {
        "colab": {
          "base_uri": "https://localhost:8080/"
        },
        "id": "dt4g-m8WN8J4",
        "outputId": "13d61daf-0052-4deb-c584-d30915933a89"
      },
      "execution_count": null,
      "outputs": [
        {
          "output_type": "stream",
          "name": "stdout",
          "text": [
            "{'bart': (15, 12), 'lisa': 13, 'homer': 50}\n"
          ]
        }
      ]
    },
    {
      "cell_type": "code",
      "source": [
        "names = {}\n",
        "names [1] = 'Shiro'\n",
        "names [2] = 'Ramnath mehta'\n",
        "print(names)"
      ],
      "metadata": {
        "colab": {
          "base_uri": "https://localhost:8080/"
        },
        "id": "9wlHP9mEN9wY",
        "outputId": "50aa8589-7f2f-4660-90be-a94babc78c94"
      },
      "execution_count": null,
      "outputs": [
        {
          "output_type": "stream",
          "name": "stdout",
          "text": [
            "{1: 'Shiro', 2: 'Ramnath mehta'}\n"
          ]
        }
      ]
    },
    {
      "cell_type": "code",
      "source": [
        "my_dict = { 'bill':7,\n",
        "'rich':15 }\n",
        "print(my_dict['bill'])\n",
        "my_dict['bill'] = 80\n",
        "print(my_dict['bill'])"
      ],
      "metadata": {
        "colab": {
          "base_uri": "https://localhost:8080/"
        },
        "id": "EXY5AwoWN_Cp",
        "outputId": "238166a8-5bc5-4a47-811a-146c4d571cb7"
      },
      "execution_count": null,
      "outputs": [
        {
          "output_type": "stream",
          "name": "stdout",
          "text": [
            "7\n",
            "80\n"
          ]
        }
      ]
    },
    {
      "cell_type": "markdown",
      "source": [
        "• Write a method which takes as an argument a sequence of\n",
        "characters (which may be a list, a tuple or a string) and returns a\n",
        "dictionary in which the keys are the letters in the sequence and\n",
        "the values are the occurrence count for each letter. Any nonletter should be ignored\n"
      ],
      "metadata": {
        "id": "ACo_TezSWK3m"
      }
    },
    {
      "cell_type": "code",
      "source": [
        "def count_letters(sequence):\n",
        "    aCounter = {}\n",
        "    \n",
        "    for letter in sequence:\n",
        "        if letter not in aCounter:\n",
        "            aCounter[letter] = 1\n",
        "        else:\n",
        "            aCounter[letter] += 1\n",
        "    \n",
        "    return aCounter\n",
        "    \n",
        "sequence =['d','e','d','e','e']"
      ],
      "metadata": {
        "id": "CiYpSGv5OA4h"
      },
      "execution_count": 22,
      "outputs": []
    },
    {
      "cell_type": "code",
      "source": [
        "count_letters(sequence)"
      ],
      "metadata": {
        "colab": {
          "base_uri": "https://localhost:8080/"
        },
        "id": "7pv6_E0fOH3A",
        "outputId": "6c4c5c04-6dd8-409f-c1ac-2500de9ac6b5"
      },
      "execution_count": 23,
      "outputs": [
        {
          "output_type": "execute_result",
          "data": {
            "text/plain": [
              "{'d': 2, 'e': 3}"
            ]
          },
          "metadata": {},
          "execution_count": 23
        }
      ]
    },
    {
      "cell_type": "markdown",
      "source": [
        "• Suppose you have a dictionary containing an occurrence count\n",
        "such as the one produced in exercise 1 e.g.\n",
        "{ 'a':1, 'b' :2, 'c':3, 'd':4, 'e':1, 'f’:1 }\n",
        "\n",
        "\n",
        "Write a function that inverts the dictionary, i.e. maps numbers to\n",
        "lists of letters. For the above example the result should be\n",
        "{ 1:['a','e','f'], 2:['b'], 3:['c'], 4:['d'] }\n"
      ],
      "metadata": {
        "id": "7arVjVYnOM4y"
      }
    },
    {
      "cell_type": "code",
      "source": [
        "def icount_letters(sequence):\n",
        "    aCounter = {}\n",
        "    \n",
        "    for key, value in sequence.items():\n",
        "        if value not in aCounter:\n",
        "            aCounter[value] = [key]\n",
        "        else:\n",
        "            aCounter[value].append(key)\n",
        "    \n",
        "    return aCounter"
      ],
      "metadata": {
        "id": "qlPNPv9NOK2J"
      },
      "execution_count": 27,
      "outputs": []
    },
    {
      "cell_type": "code",
      "source": [
        "sequence = { 'a':1, 'b' :2, 'c':3, 'd':4, 'e':1, 'f': 1}\n"
      ],
      "metadata": {
        "id": "-TtUWYPEOZeK"
      },
      "execution_count": 28,
      "outputs": []
    },
    {
      "cell_type": "code",
      "source": [
        "icount_letters(sequence)"
      ],
      "metadata": {
        "colab": {
          "base_uri": "https://localhost:8080/"
        },
        "id": "dWI8lRsoObE6",
        "outputId": "030fc6df-e458-4c2a-ab75-930ca8027679"
      },
      "execution_count": 29,
      "outputs": [
        {
          "output_type": "execute_result",
          "data": {
            "text/plain": [
              "{1: ['a', 'e', 'f'], 2: ['b'], 3: ['c'], 4: ['d']}"
            ]
          },
          "metadata": {},
          "execution_count": 29
        }
      ]
    },
    {
      "cell_type": "code",
      "source": [
        "sequence.items()"
      ],
      "metadata": {
        "colab": {
          "base_uri": "https://localhost:8080/"
        },
        "id": "8iauS8a1d8xM",
        "outputId": "c031bc4b-aeb8-4c9b-9e12-b868d22355ac"
      },
      "execution_count": 30,
      "outputs": [
        {
          "output_type": "execute_result",
          "data": {
            "text/plain": [
              "dict_items([('a', 1), ('b', 2), ('c', 3), ('d', 4), ('e', 1), ('f', 1)])"
            ]
          },
          "metadata": {},
          "execution_count": 30
        }
      ]
    },
    {
      "cell_type": "markdown",
      "source": [
        "Write a method which takes as an argument a sequence of\n",
        "characters (which may be a list, a tuple or a string) and returns a\n",
        "dictionary in which the keys are the letters in the sequence and\n",
        "the values are the occurrence count for each letter. Any nonletter should be ignored\n"
      ],
      "metadata": {
        "id": "zoFu0lzuZ3WE"
      }
    },
    {
      "cell_type": "code",
      "source": [
        "def count(sq):\n",
        "  counter = {}\n",
        "  for letter in sq:\n",
        "      if letter not in counter:\n",
        "        counter[letter] = 1\n",
        "      else:\n",
        "        counter[letter] += counter[letter]\n",
        "  \n",
        "  return counter"
      ],
      "metadata": {
        "id": "oPfJj6n8Ocaa"
      },
      "execution_count": 24,
      "outputs": []
    },
    {
      "cell_type": "code",
      "source": [
        "sq=['d','e','f','d','e','f']"
      ],
      "metadata": {
        "id": "WF-B6QNXZfj-"
      },
      "execution_count": 25,
      "outputs": []
    },
    {
      "cell_type": "code",
      "source": [
        "count(sq)"
      ],
      "metadata": {
        "colab": {
          "base_uri": "https://localhost:8080/"
        },
        "id": "EwOxX5TjW-ny",
        "outputId": "16882f8b-97e7-4d39-b968-0ea53df953a6"
      },
      "execution_count": 26,
      "outputs": [
        {
          "output_type": "execute_result",
          "data": {
            "text/plain": [
              "{'d': 2, 'e': 2, 'f': 2}"
            ]
          },
          "metadata": {},
          "execution_count": 26
        }
      ]
    },
    {
      "cell_type": "markdown",
      "source": [
        "Write a function that takes as an argument a list of numbers, and\n",
        "then returns the number that occurs the most frequently (the\n",
        "mode)."
      ],
      "metadata": {
        "id": "RSbYutkCdL26"
      }
    },
    {
      "cell_type": "code",
      "source": [
        "def most_frequent(numbers):\n",
        "    \"\"\"\n",
        "    Given a list of numbers, returns the number that occurs the most frequently.\n",
        "    If there are multiple numbers that occur the same number of times, returns the first one.\n",
        "    \"\"\"\n",
        "    frequency = {}\n",
        "    max_count = 0\n",
        "    most_common_number = None\n",
        "    for number in numbers:\n",
        "        if number not in frequency:\n",
        "            frequency[number] = 1\n",
        "        else:\n",
        "            frequency[number] += 1\n",
        "        if frequency[number] > max_count:\n",
        "            max_count = frequency[number]\n",
        "            most_common_number = number\n",
        "    return most_common_number\n"
      ],
      "metadata": {
        "id": "3hvNvJa_XOyJ"
      },
      "execution_count": 1,
      "outputs": []
    },
    {
      "cell_type": "code",
      "source": [
        "numbers = [2,4,5,2,5,2]\n",
        "most_frequent(numbers)"
      ],
      "metadata": {
        "colab": {
          "base_uri": "https://localhost:8080/"
        },
        "id": "V6RC2-uAkKVA",
        "outputId": "abb85951-df26-4236-ba39-d83a2e6fe873"
      },
      "execution_count": 4,
      "outputs": [
        {
          "output_type": "execute_result",
          "data": {
            "text/plain": [
              "2"
            ]
          },
          "metadata": {},
          "execution_count": 4
        }
      ]
    },
    {
      "cell_type": "markdown",
      "source": [
        "Write a function that takes two sets as arguments and returns a set containing all elements that appear in\n",
        "exactly one of the two sets. (The result should not include elements that appear in both sets.) You should not\n",
        "make use of the difference method.\n",
        "Test with several calls to the function."
      ],
      "metadata": {
        "id": "nvHu1K1xsRSn"
      }
    },
    {
      "cell_type": "code",
      "source": [
        "def two_set(set1, set2):\n",
        "  difference = set()\n",
        "  for element in set1:\n",
        "    if element not in set2:\n",
        "      difference.add(element)\n",
        "      \n",
        "    for element in set2:\n",
        "      if element not in set1:\n",
        "        difference.add(element)\n",
        "\n",
        "    return difference"
      ],
      "metadata": {
        "id": "8QHLM0LFmmTo"
      },
      "execution_count": 11,
      "outputs": []
    },
    {
      "cell_type": "code",
      "source": [
        "set1 = {1,2,3,4,5}\n",
        "set2 = {2,6,3,8,9}\n"
      ],
      "metadata": {
        "id": "YD2NUb4cuaKT"
      },
      "execution_count": 12,
      "outputs": []
    },
    {
      "cell_type": "code",
      "source": [
        "two_set(set1, set2)"
      ],
      "metadata": {
        "id": "ANobRmjiuhU5",
        "outputId": "aaf662d5-507f-485a-e870-d00a53f9c52d",
        "colab": {
          "base_uri": "https://localhost:8080/"
        }
      },
      "execution_count": 13,
      "outputs": [
        {
          "output_type": "execute_result",
          "data": {
            "text/plain": [
              "{1, 6, 8, 9}"
            ]
          },
          "metadata": {},
          "execution_count": 13
        }
      ]
    },
    {
      "cell_type": "markdown",
      "source": [
        "Write a function that takes as an argument a list of words and creates and returns a dictionary that uses\n",
        "lengths of words as keys and the number of words of each length as values.\n",
        "Use this function in a program that first asks the user to input some words, storing them in a list and then\n",
        "asks the user to supply some lengths and produces output such as “There are 5 words of length 4 in the list”.\n",
        "If there are no words of that length the output should use “… no words …”. (Hint: use the two-argument\n",
        "version of get)"
      ],
      "metadata": {
        "id": "yoKiYalwG4Rj"
      }
    },
    {
      "cell_type": "code",
      "source": [
        "def l1w(list_of_words):\n",
        "  len_of_words={}\n",
        "  for words in list_of_words:\n",
        "    key = len(words)\n",
        "    if key in len_of_words:\n",
        "      len_of_words[key] += 1\n",
        "    else:\n",
        "      len_of_words[key] = 1\n",
        "\n",
        "  return len_of_words"
      ],
      "metadata": {
        "id": "TD51owcuukAE"
      },
      "execution_count": 9,
      "outputs": []
    },
    {
      "cell_type": "code",
      "source": [
        "a = 'Python is commonly used for developing websites. Python'\n",
        "listWords = a.split()\n",
        "# print(listWords)"
      ],
      "metadata": {
        "id": "LzooL8zBLwQy",
        "outputId": "689d1a98-3b15-4e62-cf25-483c7d57796c",
        "colab": {
          "base_uri": "https://localhost:8080/"
        }
      },
      "execution_count": 10,
      "outputs": [
        {
          "output_type": "stream",
          "name": "stdout",
          "text": [
            "['Python', 'is', 'commonly', 'used', 'for', 'developing', 'websites.', 'Python']\n"
          ]
        }
      ]
    },
    {
      "cell_type": "code",
      "source": [
        "print(l1w(listWords))"
      ],
      "metadata": {
        "id": "6AbySv4BMMMC",
        "outputId": "707d2f38-b082-4159-cb64-5ede7dfa4a5f",
        "colab": {
          "base_uri": "https://localhost:8080/"
        }
      },
      "execution_count": 13,
      "outputs": [
        {
          "output_type": "stream",
          "name": "stdout",
          "text": [
            "{6: 2, 2: 1, 8: 1, 4: 1, 3: 1, 10: 1, 9: 1}\n"
          ]
        }
      ]
    },
    {
      "cell_type": "code",
      "source": [],
      "metadata": {
        "id": "5xKTdz_wMR50"
      },
      "execution_count": null,
      "outputs": []
    }
  ]
}